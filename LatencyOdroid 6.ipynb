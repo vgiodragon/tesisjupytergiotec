{
 "cells": [
  {
   "cell_type": "code",
   "execution_count": 1,
   "metadata": {},
   "outputs": [
    {
     "name": "stderr",
     "output_type": "stream",
     "text": [
      "/usr/lib/python3/dist-packages/matplotlib/__init__.py:874: UserWarning: axes.color_cycle is deprecated and replaced with axes.prop_cycle; please use the latter.\n",
      "  warnings.warn(self.msg_depr % (key, alt_key))\n"
     ]
    }
   ],
   "source": [
    "import pandas as pd\n",
    "import numpy as np\n",
    "import matplotlib.pyplot as plt\n",
    "import seaborn as sns\n",
    "import datetime as dt\n",
    "from datetime import timedelta"
   ]
  },
  {
   "cell_type": "code",
   "execution_count": 20,
   "metadata": {},
   "outputs": [],
   "source": [
    "def Plotbox(mdtf1,mcolum,morder,name):\n",
    "    plt.rcParams['figure.dpi'] = 140\n",
    "    sns.boxplot(x='test', y=mcolum, data=mdtf1, order=morder)\n",
    "    ax = plt.gca()\n",
    "    ax.grid(True)    \n",
    "    plt.savefig(name+'.eps', format='eps', dpi=1000)\n",
    "    \n",
    "def Append(mdtf1,mdtf2,mdtf3,mdtf4,mdtf5,mdtf6,mdtf7):\n",
    "    mdtf1 = mdtf1.append(mdtf2)\n",
    "    mdtf1 = mdtf1.append(mdtf3)\n",
    "    mdtf1 = mdtf1.append(mdtf4)\n",
    "    mdtf1 = mdtf1.append(mdtf5)\n",
    "    mdtf1 = mdtf1.append(mdtf6)\n",
    "    return mdtf1.append(mdtf7)\n",
    "    \n",
    "def AppendAndPlot(df1,df2,df3,df4,df5,df6,df7,\n",
    "                  O_column, simbol, value, morder,name):\n",
    "    ndf = Append(df1, df2, df3, df4, df5, df6,df7).reset_index(drop=True)\n",
    "    ndf[O_column] = CastOutLayers(ndf, O_column, simbol,value)\n",
    "    Plotbox(ndf,O_column,morder,name)\n",
    "\n",
    "def CastOutLayers(mdtf1, column, lowerorgreater,mlimit):\n",
    "    aux = []\n",
    "    for row in mdtf1[column]:\n",
    "        if type(row) is str:\n",
    "            row =row.replace(\".\", \"\")\n",
    "        if lowerorgreater == \"<\":\n",
    "            if float(row) > mlimit:\n",
    "                aux.append(mlimit)\n",
    "            else:\n",
    "                aux.append(float(row))\n",
    "        elif lowerorgreater == \">\":\n",
    "            if float(row) < mlimit:\n",
    "                aux.append(mlimit)\n",
    "            else:\n",
    "                aux.append(float(row))\n",
    "    return aux"
   ]
  },
  {
   "cell_type": "code",
   "execution_count": 15,
   "metadata": {},
   "outputs": [],
   "source": [
    "def getDates3(dft):\n",
    "    sal = pd.to_datetime(dft.Hora, format=\"%Y-%m-%d %H:%M:%S.%f\")\n",
    "    dft['latency in seconds'] = (sal-pd.to_datetime(dft.timestamp2, format=\"%Y-%m-%d %H:%M:%S.%f\"))/ np.timedelta64(1, 's')\n",
    "    return dft[['latency in seconds','test']]"
   ]
  },
  {
   "cell_type": "code",
   "execution_count": 21,
   "metadata": {},
   "outputs": [],
   "source": [
    "dft25 = pd.read_csv('latencyOdroid/25_6.csv')\n",
    "dft25  [\"test\"]= \"25\"\n",
    "lat25 = getDates3(dft25)\n",
    "\n",
    "dft50 = pd.read_csv('latencyOdroid/50_6.csv')\n",
    "dft50  [\"test\"]= \"50\"\n",
    "lat50 = getDates3(dft50)\n",
    "\n",
    "dft75 = pd.read_csv('latencyOdroid/75_6.csv')\n",
    "dft75  [\"test\"]= \"75\"\n",
    "lat75 = getDates3(dft75)\n",
    "\n",
    "dft100 = pd.read_csv('latencyOdroid/100_6.csv')\n",
    "dft100  [\"test\"]= \"100\"\n",
    "lat100 = getDates3(dft100)\n",
    "\n",
    "dft125 = pd.read_csv('latencyOdroid/125_6.csv')\n",
    "dft125  [\"test\"]= \"125\"\n",
    "lat125 = getDates3(dft125)\n",
    "\n",
    "dft150 = pd.read_csv('latencyOdroid/150_6.csv')\n",
    "dft150  [\"test\"]= \"150\"\n",
    "lat150 = getDates3(dft150)\n",
    "\n",
    "dft175 = pd.read_csv('latencyOdroid/175_6.csv')\n",
    "dft175  [\"test\"]= \"175\"\n",
    "lat175 = getDates3(dft175)\n"
   ]
  },
  {
   "cell_type": "code",
   "execution_count": 22,
   "metadata": {},
   "outputs": [],
   "source": [
    "morder=[\"25\", \"50\", \"75\", \"100\", \"125\", \"150\", \"175\"]"
   ]
  },
  {
   "cell_type": "code",
   "execution_count": 24,
   "metadata": {},
   "outputs": [
    {
     "name": "stderr",
     "output_type": "stream",
     "text": [
      "/usr/lib/python3/dist-packages/matplotlib/__init__.py:894: UserWarning: axes.color_cycle is deprecated and replaced with axes.prop_cycle; please use the latter.\n",
      "  warnings.warn(self.msg_depr % (key, alt_key))\n"
     ]
    },
    {
     "data": {
      "image/png": "[encoded data removed]",
      "text/plain": [
       "<matplotlib.figure.Figure at 0x7f2ef9e4c128>"
      ]
     },
     "metadata": {},
     "output_type": "display_data"
    }
   ],
   "source": [
    "AppendAndPlot(lat25, lat50, lat75, lat100, lat125, lat150,\n",
    "              lat175, \"latency in seconds\",\n",
    "              \"<\",5.5,morder,\"latencyOdroid\")"
   ]
  },
  {
   "cell_type": "code",
   "execution_count": null,
   "metadata": {},
   "outputs": [],
   "source": []
  }
 ],
 "metadata": {
  "kernelspec": {
   "display_name": "Python 3",
   "language": "python",
   "name": "python3"
  },
  "language_info": {
   "codemirror_mode": {
    "name": "ipython",
    "version": 3
   },
   "file_extension": ".py",
   "mimetype": "text/x-python",
   "name": "python",
   "nbconvert_exporter": "python",
   "pygments_lexer": "ipython3",
   "version": "3.5.2"
  }
 },
 "nbformat": 4,
 "nbformat_minor": 2
}
