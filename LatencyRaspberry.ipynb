{
 "cells": [
  {
   "cell_type": "code",
   "execution_count": 1,
   "metadata": {},
   "outputs": [
    {
     "name": "stderr",
     "output_type": "stream",
     "text": [
      "/usr/lib/python3/dist-packages/matplotlib/__init__.py:874: UserWarning: axes.color_cycle is deprecated and replaced with axes.prop_cycle; please use the latter.\n",
      "  warnings.warn(self.msg_depr % (key, alt_key))\n"
     ]
    }
   ],
   "source": [
    "import pandas as pd\n",
    "import numpy as np\n",
    "import matplotlib.pyplot as plt\n",
    "import seaborn as sns\n",
    "import datetime as dt\n",
    "from datetime import timedelta"
   ]
  },
  {
   "cell_type": "code",
   "execution_count": 3,
   "metadata": {},
   "outputs": [],
   "source": [
    "def getDates2(dft):\n",
    "    sal = pd.to_datetime(dft.Hora, format=\"%Y-%m-%d %H:%M:%S.%f\")\n",
    "    dft['latency in seconds'] = (sal-pd.to_datetime(dft.Vic_date_Local, format=\"%Y-%m-%d %H:%M:%S.%f\"))/ np.timedelta64(1, 's')\n",
    "    return dft[['latency in seconds','test']]\n",
    "\n",
    "def getLatencyPaso2_Paso1(dft):\n",
    "    sal = pd.to_datetime(dft.VHPaso2, format=\"%Y-%m-%d %H:%M:%S.%f\")\n",
    "    dft['latency in seconds'] = (sal-pd.to_datetime(dft.VHPaso1, format=\"%Y-%m-%d %H:%M:%S.%f\"))/ np.timedelta64(1, 's')\n",
    "    return dft[['latency in seconds','test']]\n",
    "\n",
    "def getLatencyPaso3_Paso1(dft):\n",
    "    sal = pd.to_datetime(dft.VHPaso3, format=\"%Y-%m-%d %H:%M:%S.%f\")\n",
    "    dft['latency in seconds'] = (sal-pd.to_datetime(dft.VHPaso2, format=\"%Y-%m-%d %H:%M:%S.%f\"))/ np.timedelta64(1, 's')\n",
    "    return dft[['latency in seconds','test']]\n",
    "\n",
    "def plotearL(col,scol):\n",
    "    # plot it\n",
    "    plt.rcParams['figure.dpi'] = 140\n",
    "    plt.plot(col)\n",
    "    plt.ylabel(scol)\n",
    "    plt.show()"
   ]
  },
  {
   "cell_type": "code",
   "execution_count": 7,
   "metadata": {},
   "outputs": [],
   "source": [
    "def Plotbox(mdtf1,mcolum,morder):\n",
    "    plt.rcParams['figure.dpi'] = 140\n",
    "    sns.boxplot(x='test', y=mcolum, data=mdtf1, order=morder)\n",
    "    ax = plt.gca()\n",
    "    ax.grid(True)\n",
    "    plt.show()\n",
    "    \n",
    "def Append(mdtf1,mdtf2,mdtf3,mdtf4,mdtf5,mdtf6):\n",
    "    mdtf1 = mdtf1.append(mdtf2)\n",
    "    mdtf1 = mdtf1.append(mdtf3)\n",
    "    mdtf1 = mdtf1.append(mdtf4)\n",
    "    mdtf1 = mdtf1.append(mdtf5)\n",
    "    return mdtf1.append(mdtf6)\n",
    "\n",
    "def getDates3(dft):\n",
    "    sal = pd.to_datetime(dft.dateStore, format=\"%Y-%m-%d %H:%M:%S.%f\")\n",
    "    dft['latency in seconds'] = (sal-pd.to_datetime(dft.Agre_date, format=\"%Y-%m-%d %H:%M:%S.%f\"))/ np.timedelta64(1, 's')\n",
    "    return dft[['latency in seconds','test']]\n",
    "    \n",
    "def AppendAndPlot(df1,df2,df3,df4,df5,df6,\n",
    "                  O_column, simbol, value, morder):\n",
    "    ndf = Append(df1, df2, df3, df4, df5, df6).reset_index(drop=True)\n",
    "    ndf[O_column] = CastOutLayers(ndf, O_column, simbol,value)\n",
    "    Plotbox(ndf,O_column,morder)\n",
    "\n",
    "def CastOutLayers(mdtf1, column, lowerorgreater,mlimit):\n",
    "    aux = []\n",
    "    for row in mdtf1[column]:\n",
    "        if type(row) is str:\n",
    "            row =row.replace(\".\", \"\")\n",
    "        if lowerorgreater == \"<\":\n",
    "            if float(row) > mlimit:\n",
    "                aux.append(mlimit)\n",
    "            else:\n",
    "                aux.append(float(row))\n",
    "        elif lowerorgreater == \">\":\n",
    "            if float(row) < mlimit:\n",
    "                aux.append(mlimit)\n",
    "            else:\n",
    "                aux.append(float(row))\n",
    "    return aux"
   ]
  },
  {
   "cell_type": "code",
   "execution_count": 21,
   "metadata": {},
   "outputs": [],
   "source": [
    "def getDates3(dft):\n",
    "    sal = pd.to_datetime(dft.Hora, format=\"%Y-%m-%d %H:%M:%S.%f\")\n",
    "    dft['latency in seconds'] = (sal-pd.to_datetime(dft.timestamp2, format=\"%Y-%m-%d %H:%M:%S.%f\"))/ np.timedelta64(1, 's')\n",
    "    return dft[['latency in seconds','test']]"
   ]
  },
  {
   "cell_type": "code",
   "execution_count": 23,
   "metadata": {},
   "outputs": [],
   "source": [
    "dft25 = pd.read_csv('latencyRaspberry/25_4.csv')\n",
    "dft25  [\"test\"]= \"25\"\n",
    "lat25 = getDates3(dft25)\n",
    "\n",
    "dft50 = pd.read_csv('latencyRaspberry/50_4.csv')\n",
    "dft50  [\"test\"]= \"50\"\n",
    "lat50 = getDates3(dft50)\n",
    "\n",
    "dft75 = pd.read_csv('latencyRaspberry/75_4.csv')\n",
    "dft75  [\"test\"]= \"75\"\n",
    "lat75 = getDates3(dft75)\n",
    "\n",
    "dft100 = pd.read_csv('latencyRaspberry/100_4.csv')\n",
    "dft100  [\"test\"]= \"100\"\n",
    "lat100 = getDates3(dft100)\n",
    "\n",
    "dft125 = pd.read_csv('latencyRaspberry/125_4.csv')\n",
    "dft125  [\"test\"]= \"125\"\n",
    "lat125 = getDates3(dft125)\n",
    "\n",
    "dft150 = pd.read_csv('latencyRaspberry/150_4.csv')\n",
    "dft150  [\"test\"]= \"150\"\n",
    "lat150 = getDates3(dft150)"
   ]
  },
  {
   "cell_type": "code",
   "execution_count": 14,
   "metadata": {},
   "outputs": [],
   "source": [
    "morder=[\"25\", \"50\", \"75\", \"100\", \"125\", \"150\"]"
   ]
  },
  {
   "cell_type": "code",
   "execution_count": 18,
   "metadata": {},
   "outputs": [
    {
     "name": "stderr",
     "output_type": "stream",
     "text": [
      "/usr/lib/python3/dist-packages/matplotlib/__init__.py:894: UserWarning: axes.color_cycle is deprecated and replaced with axes.prop_cycle; please use the latter.\n",
      "  warnings.warn(self.msg_depr % (key, alt_key))\n"
     ]
    },
    {
     "data": {
      "image/png": "[encoded data removed]",
      "text/plain": [
       "<matplotlib.figure.Figure at 0x7f0a9360c320>"
      ]
     },
     "metadata": {},
     "output_type": "display_data"
    }
   ],
   "source": [
    "AppendAndPlot(lat25, lat50, lat75, lat100,\n",
    "              lat125, lat150,\"latency in seconds\",\n",
    "              \"<\",5,morder)"
   ]
  }
 ],
 "metadata": {
  "kernelspec": {
   "display_name": "Python 3",
   "language": "python",
   "name": "python3"
  },
  "language_info": {
   "codemirror_mode": {
    "name": "ipython",
    "version": 3
   },
   "file_extension": ".py",
   "mimetype": "text/x-python",
   "name": "python",
   "nbconvert_exporter": "python",
   "pygments_lexer": "ipython3",
   "version": "3.5.2"
  }
 },
 "nbformat": 4,
 "nbformat_minor": 2
}
